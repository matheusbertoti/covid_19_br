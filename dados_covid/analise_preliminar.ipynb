{
 "cells": [
  {
   "cell_type": "code",
   "execution_count": 1,
   "metadata": {},
   "outputs": [
    {
     "name": "stdout",
     "output_type": "stream",
     "text": [
      "regiao                     object\n",
      "estado                     object\n",
      "municipio                  object\n",
      "coduf                       int64\n",
      "codmun                    float64\n",
      "codRegiaoSaude            float64\n",
      "nomeRegiaoSaude            object\n",
      "data                       object\n",
      "semanaEpi                   int64\n",
      "populacaoTCU2019          float64\n",
      "casosAcumulado            float64\n",
      "casosNovos                  int64\n",
      "obitosAcumulado             int64\n",
      "obitosNovos                 int64\n",
      "Recuperadosnovos          float64\n",
      "emAcompanhamentoNovos     float64\n",
      "interior/metropolitana    float64\n",
      "dtype: object\n"
     ]
    }
   ],
   "source": [
    "import pandas as pd\n",
    "df = pd.read_csv('combined_csv.csv', sep = ';')\n",
    "print(df.dtypes)"
   ]
  }
 ],
 "metadata": {
  "kernelspec": {
   "display_name": "Python 3.10.5 64-bit",
   "language": "python",
   "name": "python3"
  },
  "language_info": {
   "codemirror_mode": {
    "name": "ipython",
    "version": 3
   },
   "file_extension": ".py",
   "mimetype": "text/x-python",
   "name": "python",
   "nbconvert_exporter": "python",
   "pygments_lexer": "ipython3",
   "version": "3.10.5"
  },
  "orig_nbformat": 4,
  "vscode": {
   "interpreter": {
    "hash": "8d3e54fe3ce154e32ac346abb9a52721706f8b6192d2a6d9e7d1f2a1d569502c"
   }
  }
 },
 "nbformat": 4,
 "nbformat_minor": 2
}
